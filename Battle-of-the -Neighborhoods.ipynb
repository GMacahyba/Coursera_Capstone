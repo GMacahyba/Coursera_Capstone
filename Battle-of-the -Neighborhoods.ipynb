{
 "cells": [
  {
   "cell_type": "markdown",
   "metadata": {},
   "source": [
    "# Battle of the Neighborhoods"
   ]
  },
  {
   "cell_type": "markdown",
   "metadata": {},
   "source": [
    "### 1. Introduction/Business Problem"
   ]
  },
  {
   "cell_type": "markdown",
   "metadata": {},
   "source": [
    "A small-sized company wants to enter the restaurant business, specifically they want to start a Pizza Place. They plan to buy and remodel available real estate properties in the heart of the São Paulo, the financial capital of Brazil and largest consumer of pizza in LatAm, but do not know which location would best leverage their efforts to stand out in the food industry. So, in order to achieve their goal they want to use the power of machine learning and data science to find their answer and thrive in their newfound business."
   ]
  },
  {
   "cell_type": "markdown",
   "metadata": {},
   "source": [
    "### 2. Data"
   ]
  },
  {
   "cell_type": "markdown",
   "metadata": {},
   "source": [
    "First and foremost this project will use neighborhoods' location data available in this source: https://www.hastedesign.com.br/lab/planilha-areas-de-entrega-por-ceps-de-sao-paulo-woocommerce/ to map out the city of São Paulo. Later, utilizing geocode, a Python geolocation library, the latitude and longitude of each neighborhood will be retrieved. Then the distance to the geographical center of the city will be calculated for each neighborhood and a criteria will be used to map the centermost locations. The FourSquare API will be subsequently used to retrieve the Pizza Places/Italian Restaurants of each selected location. Then, the data will be clustered through a machine learning algorithm and folium will generate a map based on these clusters. Finally we will be able to see and discover which locations are suited to receive attention as a potential place for the new business.\n"
   ]
  }
 ],
 "metadata": {
  "kernelspec": {
   "display_name": "Python 3",
   "language": "python",
   "name": "python3"
  },
  "language_info": {
   "codemirror_mode": {
    "name": "ipython",
    "version": 3
   },
   "file_extension": ".py",
   "mimetype": "text/x-python",
   "name": "python",
   "nbconvert_exporter": "python",
   "pygments_lexer": "ipython3",
   "version": "3.7.3"
  }
 },
 "nbformat": 4,
 "nbformat_minor": 4
}
