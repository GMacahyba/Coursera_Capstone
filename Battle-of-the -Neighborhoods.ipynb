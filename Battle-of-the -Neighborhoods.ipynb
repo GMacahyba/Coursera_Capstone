{
 "cells": [
  {
   "cell_type": "markdown",
   "metadata": {},
   "source": [
    "# Battle of the Neighborhoods"
   ]
  },
  {
   "cell_type": "markdown",
   "metadata": {},
   "source": [
    "### 1. Introduction/Business Problem"
   ]
  },
  {
   "cell_type": "markdown",
   "metadata": {},
   "source": [
    "A small-sized company would like to enter the restaurant business. They plan to buy and remodel a downsized fast-food store in the heart of the São Paulo, the financial capital of Brazil, but do not know which combination of location and type of food would best leverage their efforts to stand out in the food industry. So, in order to achieve their goal they want to use the power of machine learning and data science to find their answer and thrive in their newfound business."
   ]
  },
  {
   "cell_type": "markdown",
   "metadata": {},
   "source": [
    "### 2. Data"
   ]
  },
  {
   "cell_type": "markdown",
   "metadata": {},
   "source": [
    "This project will leverage the location data provided by the Foursquare API; more specifically, geographical data (such as latitude and longitude) and venue data (location and type). We will cluster the neighborhoods and their respective venues to find answer to our business problem. Exploring this resource we hope to find a niche for the small-sized company that will maximize their gains.  \n"
   ]
  },
  {
   "cell_type": "code",
   "execution_count": null,
   "metadata": {},
   "outputs": [],
   "source": []
  }
 ],
 "metadata": {
  "kernelspec": {
   "display_name": "Python",
   "language": "python",
   "name": "conda-env-python-py"
  },
  "language_info": {
   "codemirror_mode": {
    "name": "ipython",
    "version": 3
   },
   "file_extension": ".py",
   "mimetype": "text/x-python",
   "name": "python",
   "nbconvert_exporter": "python",
   "pygments_lexer": "ipython3",
   "version": "3.6.7"
  }
 },
 "nbformat": 4,
 "nbformat_minor": 4
}
